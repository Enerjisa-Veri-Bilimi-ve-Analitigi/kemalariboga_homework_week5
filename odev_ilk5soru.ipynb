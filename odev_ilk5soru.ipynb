{
 "cells": [
  {
   "cell_type": "markdown",
   "id": "covered-holocaust",
   "metadata": {},
   "source": [
    "#### Kemal Burak Arıboğa"
   ]
  },
  {
   "cell_type": "markdown",
   "id": "vocational-retailer",
   "metadata": {},
   "source": [
    "#### Soru 1) One hot encoding modelin görmediği veriye nasıl uygulanır?"
   ]
  },
  {
   "cell_type": "markdown",
   "id": "greenhouse-isaac",
   "metadata": {},
   "source": [
    "* One hot encoding kategorik verileri modele tanıtabilmek için kullanılır.\n",
    "* sklearn.preprocessing.OneHotEncoder veya pandas.get_dummies metodlarıyla veriye uygulanabilir."
   ]
  },
  {
   "cell_type": "markdown",
   "id": "incorporate-couple",
   "metadata": {},
   "source": [
    "###### Örnek Uygulama:"
   ]
  },
  {
   "cell_type": "code",
   "execution_count": 1,
   "id": "promising-indonesian",
   "metadata": {},
   "outputs": [],
   "source": [
    "#get_dummies metodu ile\n",
    "\n",
    "import pandas as pd\n",
    "#Örnek bir dataframe oluşturalım\n",
    "df = pd.DataFrame({\n",
    "    'City': ['Adana', 'Ankara', 'Istanbul', 'Izmir', 'Kocaeli', 'Bolu', 'Kastamonu', 'Sivas', 'Kayseri', 'Malatya'],\n",
    "    'Salary': ['4000', '5000', '6000', '5000', '4000', '4000', '3000', '3500', '4400', '4000']\n",
    "})"
   ]
  },
  {
   "cell_type": "code",
   "execution_count": 2,
   "id": "blank-chosen",
   "metadata": {},
   "outputs": [
    {
     "data": {
      "text/html": [
       "<div>\n",
       "<style scoped>\n",
       "    .dataframe tbody tr th:only-of-type {\n",
       "        vertical-align: middle;\n",
       "    }\n",
       "\n",
       "    .dataframe tbody tr th {\n",
       "        vertical-align: top;\n",
       "    }\n",
       "\n",
       "    .dataframe thead th {\n",
       "        text-align: right;\n",
       "    }\n",
       "</style>\n",
       "<table border=\"1\" class=\"dataframe\">\n",
       "  <thead>\n",
       "    <tr style=\"text-align: right;\">\n",
       "      <th></th>\n",
       "      <th>City_Adana</th>\n",
       "      <th>City_Ankara</th>\n",
       "      <th>City_Bolu</th>\n",
       "      <th>City_Istanbul</th>\n",
       "      <th>City_Izmir</th>\n",
       "      <th>City_Kastamonu</th>\n",
       "      <th>City_Kayseri</th>\n",
       "      <th>City_Kocaeli</th>\n",
       "      <th>City_Malatya</th>\n",
       "      <th>City_Sivas</th>\n",
       "    </tr>\n",
       "  </thead>\n",
       "  <tbody>\n",
       "    <tr>\n",
       "      <th>0</th>\n",
       "      <td>1</td>\n",
       "      <td>0</td>\n",
       "      <td>0</td>\n",
       "      <td>0</td>\n",
       "      <td>0</td>\n",
       "      <td>0</td>\n",
       "      <td>0</td>\n",
       "      <td>0</td>\n",
       "      <td>0</td>\n",
       "      <td>0</td>\n",
       "    </tr>\n",
       "    <tr>\n",
       "      <th>1</th>\n",
       "      <td>0</td>\n",
       "      <td>1</td>\n",
       "      <td>0</td>\n",
       "      <td>0</td>\n",
       "      <td>0</td>\n",
       "      <td>0</td>\n",
       "      <td>0</td>\n",
       "      <td>0</td>\n",
       "      <td>0</td>\n",
       "      <td>0</td>\n",
       "    </tr>\n",
       "    <tr>\n",
       "      <th>2</th>\n",
       "      <td>0</td>\n",
       "      <td>0</td>\n",
       "      <td>0</td>\n",
       "      <td>1</td>\n",
       "      <td>0</td>\n",
       "      <td>0</td>\n",
       "      <td>0</td>\n",
       "      <td>0</td>\n",
       "      <td>0</td>\n",
       "      <td>0</td>\n",
       "    </tr>\n",
       "    <tr>\n",
       "      <th>3</th>\n",
       "      <td>0</td>\n",
       "      <td>0</td>\n",
       "      <td>0</td>\n",
       "      <td>0</td>\n",
       "      <td>1</td>\n",
       "      <td>0</td>\n",
       "      <td>0</td>\n",
       "      <td>0</td>\n",
       "      <td>0</td>\n",
       "      <td>0</td>\n",
       "    </tr>\n",
       "    <tr>\n",
       "      <th>4</th>\n",
       "      <td>0</td>\n",
       "      <td>0</td>\n",
       "      <td>0</td>\n",
       "      <td>0</td>\n",
       "      <td>0</td>\n",
       "      <td>0</td>\n",
       "      <td>0</td>\n",
       "      <td>1</td>\n",
       "      <td>0</td>\n",
       "      <td>0</td>\n",
       "    </tr>\n",
       "    <tr>\n",
       "      <th>5</th>\n",
       "      <td>0</td>\n",
       "      <td>0</td>\n",
       "      <td>1</td>\n",
       "      <td>0</td>\n",
       "      <td>0</td>\n",
       "      <td>0</td>\n",
       "      <td>0</td>\n",
       "      <td>0</td>\n",
       "      <td>0</td>\n",
       "      <td>0</td>\n",
       "    </tr>\n",
       "    <tr>\n",
       "      <th>6</th>\n",
       "      <td>0</td>\n",
       "      <td>0</td>\n",
       "      <td>0</td>\n",
       "      <td>0</td>\n",
       "      <td>0</td>\n",
       "      <td>1</td>\n",
       "      <td>0</td>\n",
       "      <td>0</td>\n",
       "      <td>0</td>\n",
       "      <td>0</td>\n",
       "    </tr>\n",
       "    <tr>\n",
       "      <th>7</th>\n",
       "      <td>0</td>\n",
       "      <td>0</td>\n",
       "      <td>0</td>\n",
       "      <td>0</td>\n",
       "      <td>0</td>\n",
       "      <td>0</td>\n",
       "      <td>0</td>\n",
       "      <td>0</td>\n",
       "      <td>0</td>\n",
       "      <td>1</td>\n",
       "    </tr>\n",
       "    <tr>\n",
       "      <th>8</th>\n",
       "      <td>0</td>\n",
       "      <td>0</td>\n",
       "      <td>0</td>\n",
       "      <td>0</td>\n",
       "      <td>0</td>\n",
       "      <td>0</td>\n",
       "      <td>1</td>\n",
       "      <td>0</td>\n",
       "      <td>0</td>\n",
       "      <td>0</td>\n",
       "    </tr>\n",
       "    <tr>\n",
       "      <th>9</th>\n",
       "      <td>0</td>\n",
       "      <td>0</td>\n",
       "      <td>0</td>\n",
       "      <td>0</td>\n",
       "      <td>0</td>\n",
       "      <td>0</td>\n",
       "      <td>0</td>\n",
       "      <td>0</td>\n",
       "      <td>1</td>\n",
       "      <td>0</td>\n",
       "    </tr>\n",
       "  </tbody>\n",
       "</table>\n",
       "</div>"
      ],
      "text/plain": [
       "   City_Adana  City_Ankara  City_Bolu  City_Istanbul  City_Izmir  \\\n",
       "0           1            0          0              0           0   \n",
       "1           0            1          0              0           0   \n",
       "2           0            0          0              1           0   \n",
       "3           0            0          0              0           1   \n",
       "4           0            0          0              0           0   \n",
       "5           0            0          1              0           0   \n",
       "6           0            0          0              0           0   \n",
       "7           0            0          0              0           0   \n",
       "8           0            0          0              0           0   \n",
       "9           0            0          0              0           0   \n",
       "\n",
       "   City_Kastamonu  City_Kayseri  City_Kocaeli  City_Malatya  City_Sivas  \n",
       "0               0             0             0             0           0  \n",
       "1               0             0             0             0           0  \n",
       "2               0             0             0             0           0  \n",
       "3               0             0             0             0           0  \n",
       "4               0             0             1             0           0  \n",
       "5               0             0             0             0           0  \n",
       "6               1             0             0             0           0  \n",
       "7               0             0             0             0           1  \n",
       "8               0             1             0             0           0  \n",
       "9               0             0             0             1           0  "
      ]
     },
     "execution_count": 2,
     "metadata": {},
     "output_type": "execute_result"
    }
   ],
   "source": [
    "dummy_coding_df = pd.get_dummies(data = df[['City']], drop_first = False, sparse=False) #City sütunundaki kategorik veriler, numerik değerlere dönüştürüldü\n",
    "\n",
    "dummy_coding_df"
   ]
  },
  {
   "cell_type": "code",
   "execution_count": 3,
   "id": "spiritual-pressing",
   "metadata": {},
   "outputs": [
    {
     "name": "stdout",
     "output_type": "stream",
     "text": [
      "   City_Adana  City_Ankara  City_Bolu  City_Istanbul  City_Izmir  \\\n",
      "0           1            0          0              0           0   \n",
      "1           0            1          0              0           0   \n",
      "2           0            0          0              1           0   \n",
      "3           0            0          0              0           1   \n",
      "4           0            0          0              0           0   \n",
      "5           0            0          1              0           0   \n",
      "6           0            0          0              0           0   \n",
      "7           0            0          0              0           0   \n",
      "8           0            0          0              0           0   \n",
      "9           0            0          0              0           0   \n",
      "\n",
      "   City_Kastamonu  City_Kayseri  City_Kocaeli  City_Malatya  City_Sivas  \n",
      "0               0             0             0             0           0  \n",
      "1               0             0             0             0           0  \n",
      "2               0             0             0             0           0  \n",
      "3               0             0             0             0           0  \n",
      "4               0             0             1             0           0  \n",
      "5               0             0             0             0           0  \n",
      "6               1             0             0             0           0  \n",
      "7               0             0             0             0           1  \n",
      "8               0             1             0             0           0  \n",
      "9               0             0             0             1           0  \n"
     ]
    }
   ],
   "source": [
    "#OneHotEncoder ile\n",
    "\n",
    "from sklearn.preprocessing import OneHotEncoder\n",
    "\n",
    "encoder = OneHotEncoder(sparse=False) #encoder tanımlandı\n",
    "one_hot_attributes = encoder.fit_transform(df[['City']]) #City sütunundaki attributelar numerik verilere dönüştürüldü\n",
    "column_name = encoder.get_feature_names_out(['City']) #kategorik verilerin isimleri yeni dataframede gözüksün diye attributelar City sütunundan çekildi\n",
    "one_hot_df =  pd.DataFrame(one_hot_attributes, columns= column_name, dtype = int) #kategorik verilerin numerik halleri ve sütun isimleri yeni bir dataframede birleştirildi\n",
    "\n",
    "print(one_hot_df)"
   ]
  },
  {
   "cell_type": "markdown",
   "id": "e02126e1-10ed-4d49-bc96-2a21407b0837",
   "metadata": {},
   "source": [
    "#### Soru 2) Labelencoding'de ilgili kolon için ölçeklendirme nasıl yapılır? (Verinin doğru etkisiyle sayısal olarak dönüştürülmesi)"
   ]
  },
  {
   "cell_type": "code",
   "execution_count": 4,
   "id": "1c8a09c3-d1f2-486c-9417-bc91ddc1683f",
   "metadata": {},
   "outputs": [
    {
     "name": "stdout",
     "output_type": "stream",
     "text": [
      "  Pollution Type  Pollution Type Labels\n",
      "0            Air                      0\n",
      "1          Water                      5\n",
      "2           Soil                      4\n",
      "3          Noise                      2\n",
      "4          Light                      1\n",
      "5    Radioactive                      3\n"
     ]
    }
   ],
   "source": [
    "import numpy as np\n",
    "from sklearn.preprocessing import LabelEncoder\n",
    "\n",
    "pollution_types = ['Air','Water','Soil','Noise','Light','Radioactive']\n",
    "pollution_df = pd.DataFrame(pollution_types, columns = ['Pollution Type']) # Örnek bir dataframe oluşturuldu\n",
    "\n",
    "labelencoder = LabelEncoder() #LabelEncoder instance'ı tanımlandı\n",
    "pollution_df['Pollution Type Labels'] = labelencoder.fit_transform(pollution_df['Pollution Type']) #Labelencode ile kategorik veriler numerik değerlere dönüştü, 'Pollution Type Labels' ismindeki yeni bir sütuna aktarıldı\n",
    "\n",
    "print(pollution_df)"
   ]
  },
  {
   "cell_type": "markdown",
   "id": "c7189a11-3e5f-4c51-8d2e-ab144ce58f09",
   "metadata": {},
   "source": [
    "#### Soru 3) Imbalance datasette train test split yaparken neleri göz önünde bulundurmalıyız?"
   ]
  },
  {
   "cell_type": "markdown",
   "id": "db4fedcf-7100-45ec-89f6-9e1354fb912f",
   "metadata": {},
   "source": [
    "Imbalanced bir dataset overfit veya underfit problemlerine yol açabilir.\n",
    "\n",
    "Mücadele Taktikleri:\n",
    "\n",
    "1) Daha Fazla Data Toplamak\n",
    "    * Daha büyük bir veri seti, attributelar hakkında farklı ve belki de daha dengeli bir bakış açısı ortaya çıkarabilir.\n",
    "    * Veri setinde resampling yapacağımız zaman, minör attributelara ilişkin daha fazla örnek faydalı olabilir. \n",
    "\n",
    "\n",
    "2) Performans Metriklerini Değiştirmek\n",
    "    * Ölçümlerdeki (testlerdeki) isabetlilik, imbalanced datasetlerde doğru bir performans göstergesi olmayabilir.\n",
    "    * Bu nedenle;\n",
    "        * Confusion Matrix\n",
    "        * Precision\n",
    "        * Recall\n",
    "        * F1 Score\n",
    "        * Kappa\n",
    "        * ROC Curves\n",
    "    * gibi metrikler değerlendirilebilir.\n",
    "\n",
    "\n",
    "3) Resampling\n",
    "    * Datayı daha dengeli bir hale getirmek için resampling işlemi uygulanabilir. 2 çeşidi vardır:\n",
    "        * Oversampling: Yetersiz görülen data örnekleri çoğaltılabilir.\n",
    "        * Undersampling: Fazla görülen data örnekleri azaltılabilir.\n",
    "\n",
    "\n",
    "4) Sentetik Veri Üretilebilir\n",
    "    * Bkz. SMOTE (Synthetic Minority Over-sampling Technique.)\n",
    "\n",
    "\n",
    "5) Farklı Algoritmalar Denemek\n",
    "    * Decision tree algoritmaları genellikle imbalanced datalar ile iyi çalışır. Örn:\n",
    "        * C4.5\n",
    "        * C5.0\n",
    "        * CART\n",
    "        * Random Forest\n",
    "\n",
    "\n",
    "6) Cezalandırmalı Algoritmalar Kullanmak\n",
    "    * Belirli bir algoritmaya bağlıysak, resampling yapamıyorsak ve kötü sonuçlar alıyorsak bu yöntem faydalı olabilir. \n",
    "    * Örnek algoritmalar:\n",
    "        * Penalized-SVM\n",
    "        * Penalized-LDA\n",
    "    * Örnek framework:\n",
    "        * Weka - CostSensitiveClassifier\n",
    "\n",
    "\n",
    "7) Farklı Bakış Açıları Geliştirmeye Çalışmak ve Bir Bilene Danışmak\n",
    "    * Anomaly Detection: Anomaly tespiti, nadir olayların tespitidir. Bu tespitler, minor verileri outlier olarak kabul edip, bu verileri ayırmanın ve sınıflandırmanın yeni yollarını düşünmeye yardımcı olacaktır.\n",
    "    * Change Detection: Sistemdeki değişimlerin tespitidir. Kişilerin uygulamayı kullanırken sergiledikleri davranış değişikliklerinin ve alım-satım işlemlerindeki değişikliklerin takibi bu başlık altında yapılabilir.\n",
    "    * Quora ve StackOverFlow kullanmak: Bu platformlarda sorularımızı araştırdığımızda veya yeni soru sorduğumuzda gelen cevaplardan birçok yeni şey öğrenebiliriz. Örn cevaplar: \n",
    "        1) \"Decompose your larger class into smaller number of other classes…\" \n",
    "        2) \"…use a One Class Classifier… (e.g. treat like outlier detection)\"\n",
    "        3) \"…resampling the unbalanced training set into not one balanced set, but several. Running an ensemble of classifiers on these sets could produce a much better result than one classifier alone\""
   ]
  },
  {
   "cell_type": "markdown",
   "id": "eb21ef98-545a-46c0-98c7-b2ae633fa10f",
   "metadata": {},
   "source": [
    "#### Soru 4) Validation dataseti (modelin görmediği) nasıl oluşturulur ve nasıl predict etmeye hazır hale getirilir?"
   ]
  },
  {
   "cell_type": "code",
   "execution_count": 5,
   "id": "cb58bb02-244a-4f2b-8128-6d7b66e25b10",
   "metadata": {},
   "outputs": [
    {
     "name": "stdout",
     "output_type": "stream",
     "text": [
      "Score:  0.422068878563843\n"
     ]
    },
    {
     "data": {
      "image/png": "[encoded data removed]",
      "text/plain": [
       "<Figure size 432x288 with 1 Axes>"
      ]
     },
     "metadata": {
      "needs_background": "light"
     },
     "output_type": "display_data"
    }
   ],
   "source": [
    "# Scikit-learn'de yer alan train_test_split metodunu 2 kere kullanarak bu işlemi gerçekleştirebiliriz.\n",
    "\n",
    "from sklearn import datasets, linear_model\n",
    "from sklearn.model_selection import train_test_split\n",
    "from matplotlib import pyplot as plt\n",
    "\n",
    "# Örnek dataset olarak diyabet datasetini kullanalım\n",
    "\n",
    "# df_diabetes = pd.DataFrame(diabetes.data,columns=diabetes.feature_names)\n",
    "# df_diabetes['target'] = pd.Series(diabetes.target)\n",
    "# df_diabetes.head()\n",
    "\n",
    "columns = \"age sex bmi map tc ldl hdl tch ltg glu\".split() # Kullanacağımız sütun isimlerini belirttik\n",
    "diabetes = datasets.load_diabetes() # Scikit-learnden diyabet datasetini çağırdık\n",
    "df = pd.DataFrame(diabetes.data, columns=columns) # Diyabet verisetinden çekmek istediğimiz sütunlarla pandas dataframei oluşturduk\n",
    "y = diabetes.target # predict etmek istediğimiz sütunu belirledik\n",
    "\n",
    "# İlk adımda dataset'i %80 training ve %20 geri kalan olarak ayırıyoruz.\n",
    "\n",
    "X_train, X_remain, y_train, y_remain = train_test_split(df,y, train_size=0.8)\n",
    "\n",
    "# Artık geri kalan datayı %50, %50 paylaştırıp, %10 validation ve %10 test dataset elde edebiliriz\n",
    "\n",
    "X_valid, X_test, y_valid, y_test = train_test_split(X_remain,y_remain, test_size=0.5)\n",
    "\n",
    "lm = linear_model.LinearRegression() # Linear Regression modeli seçtik\n",
    "model = lm.fit(X_train, y_train) # X_train ve y_train dataları ile modeli train ettik\n",
    "predictions = lm.predict(X_valid) # X_valid üzerinden predict ettik\n",
    "\n",
    "# print(\"predictions 0-5: \", predictions[0:5])\n",
    "\n",
    "# Sonuçlarımızı grafiğe dökelim:\n",
    "\n",
    "plt.xlabel(\"Validation Values\")\n",
    "plt.ylabel(\"Predictions\")\n",
    "plt.scatter(y_valid, predictions) #\n",
    "\n",
    "print(\"Score: \", model.score(X_valid, y_valid))\n",
    "\n",
    "# Artık validation datasetimiz ile train datasetimiz üzerinde hyperparameter tuning yapabilir ve test datasetimiz ile kıyaslayabiliriz\n"
   ]
  },
  {
   "cell_type": "markdown",
   "id": "56028a32-b251-49ae-aded-a469d1e78719",
   "metadata": {},
   "source": [
    "#### Soru 5) predict_proba metoduyla oran nasıl hesaplanır ve treshold nasıl değiştirilir?"
   ]
  },
  {
   "cell_type": "code",
   "execution_count": 132,
   "id": "63e35d65-ca22-4afa-a4f0-e6a02a820d0e",
   "metadata": {},
   "outputs": [
    {
     "name": "stdout",
     "output_type": "stream",
     "text": [
      "y_test: \n",
      " [1 1 0 0 0 0 0 0 0 1] \n",
      "\n",
      "y_predicted: \n",
      " [1 1 0 0 0 0 0 0 0 1] \n",
      "\n",
      "y_predicted_proba_threshold: \n",
      " [1 1 0 0 0 0 0 0 0 1] \n",
      "\n"
     ]
    }
   ],
   "source": [
    "from sklearn.linear_model import LogisticRegression\n",
    "from sklearn.datasets import make_blobs\n",
    "\n",
    "#2D classification veriseti oluşturmak için make_blobs'u import ettik\n",
    "ds = make_blobs(n_samples=100, centers=2, n_features=2, random_state=2) #2D classification dataset oluşturduk\n",
    "X = ds[0]\n",
    "y = ds[1]\n",
    "X_train, X_test, y_train, y_test = train_test_split(X,y, train_size=0.9, random_state=2)\n",
    "\n",
    "model = LogisticRegression() #Model olarak Logistic Regression seçtik\n",
    "model.fit(X, y) #Model'i train ettik\n",
    "\n",
    "y_predicted = model.predict(X_test) # normal prediction\n",
    "y_predicted_proba = model.predict_proba(X_test) # probability prediction, burada threshold seviyemiz default olarak 0.5\n",
    "y_predicted_proba_threshold = (model.predict_proba(X_test)[:,1] >= 0.9).astype(int) # 0.9 threshold ile probability prediction\n",
    "\n",
    "# print(\"X_test: \\n\", X_test, \"\\n\")\n",
    "print(\"y_test: \\n\", y_test, \"\\n\")\n",
    "print(\"y_predicted: \\n\", y_predicted, \"\\n\")\n",
    "# print(\"y_predicted_proba: \\n\", y_predicted_proba, \"\\n\")\n",
    "print(\"y_predicted_proba_threshold: \\n\", y_predicted_proba_threshold, \"\\n\")"
   ]
  },
  {
   "cell_type": "code",
   "execution_count": null,
   "id": "60d5c640-407d-4338-a63f-08232ba5dca2",
   "metadata": {},
   "outputs": [],
   "source": []
  }
 ],
 "metadata": {
  "kernelspec": {
   "display_name": "Python 3 (ipykernel)",
   "language": "python",
   "name": "python3"
  },
  "language_info": {
   "codemirror_mode": {
    "name": "ipython",
    "version": 3
   },
   "file_extension": ".py",
   "mimetype": "text/x-python",
   "name": "python",
   "nbconvert_exporter": "python",
   "pygments_lexer": "ipython3",
   "version": "3.9.1"
  }
 },
 "nbformat": 4,
 "nbformat_minor": 5
}
